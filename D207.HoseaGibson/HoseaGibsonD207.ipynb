{
  "nbformat": 4,
  "nbformat_minor": 0,
  "metadata": {
    "colab": {
      "name": "HoseaGibsonD207.ipynb",
      "provenance": []
    },
    "kernelspec": {
      "name": "python3",
      "display_name": "Python 3"
    },
    "language_info": {
      "name": "python"
    }
  },
  "cells": [
    {
      "cell_type": "code",
      "metadata": {
        "colab": {
          "base_uri": "https://localhost:8080/"
        },
        "id": "snv5n-JP4gPa",
        "outputId": "b497800b-45ba-4058-ee25-1e5de2f7893c"
      },
      "source": [
        "# Imports \n",
        "import numpy as np\n",
        "import pandas as pd\n",
        "import seaborn as sns\n",
        "import matplotlib.pyplot as plt\n",
        "import pylab\n",
        "import statsmodels.api as sma\n",
        "import statistics\n",
        "\n",
        "from pandas import DataFrame\n",
        "from scipy import stats\n",
        "from scipy.stats import chisquare\n",
        "from scipy.stats import chi2_contingency"
      ],
      "execution_count": null,
      "outputs": [
        {
          "output_type": "stream",
          "name": "stderr",
          "text": [
            "/usr/local/lib/python3.7/dist-packages/statsmodels/tools/_testing.py:19: FutureWarning: pandas.util.testing is deprecated. Use the functions in the public API at pandas.testing instead.\n",
            "  import pandas.util.testing as tm\n"
          ]
        }
      ]
    },
    {
      "cell_type": "code",
      "metadata": {
        "id": "ChBFZ5KB5vbd"
      },
      "source": [
        "# Read csv file 'churn_clean.csv'\n",
        "df = pd.read_csv('churn_clean.csv')"
      ],
      "execution_count": null,
      "outputs": []
    },
    {
      "cell_type": "code",
      "metadata": {
        "colab": {
          "base_uri": "https://localhost:8080/",
          "height": 479
        },
        "id": "x5RnhrMY6EjF",
        "outputId": "deb7f14e-2940-43e7-c21e-e752f385a689"
      },
      "source": [
        "# Check first 5 rows to make sure all columns are named\n",
        "df.head(5)"
      ],
      "execution_count": null,
      "outputs": [
        {
          "output_type": "execute_result",
          "data": {
            "text/html": [
              "<div>\n",
              "<style scoped>\n",
              "    .dataframe tbody tr th:only-of-type {\n",
              "        vertical-align: middle;\n",
              "    }\n",
              "\n",
              "    .dataframe tbody tr th {\n",
              "        vertical-align: top;\n",
              "    }\n",
              "\n",
              "    .dataframe thead th {\n",
              "        text-align: right;\n",
              "    }\n",
              "</style>\n",
              "<table border=\"1\" class=\"dataframe\">\n",
              "  <thead>\n",
              "    <tr style=\"text-align: right;\">\n",
              "      <th></th>\n",
              "      <th>CaseOrder</th>\n",
              "      <th>Customer_id</th>\n",
              "      <th>Interaction</th>\n",
              "      <th>UID</th>\n",
              "      <th>City</th>\n",
              "      <th>State</th>\n",
              "      <th>County</th>\n",
              "      <th>Zip</th>\n",
              "      <th>Lat</th>\n",
              "      <th>Lng</th>\n",
              "      <th>Population</th>\n",
              "      <th>Area</th>\n",
              "      <th>TimeZone</th>\n",
              "      <th>Job</th>\n",
              "      <th>Children</th>\n",
              "      <th>Age</th>\n",
              "      <th>Income</th>\n",
              "      <th>Marital</th>\n",
              "      <th>Gender</th>\n",
              "      <th>Churn</th>\n",
              "      <th>Outage_sec_perweek</th>\n",
              "      <th>Email</th>\n",
              "      <th>Contacts</th>\n",
              "      <th>Yearly_equip_failure</th>\n",
              "      <th>Techie</th>\n",
              "      <th>Contract</th>\n",
              "      <th>Port_modem</th>\n",
              "      <th>Tablet</th>\n",
              "      <th>InternetService</th>\n",
              "      <th>Phone</th>\n",
              "      <th>Multiple</th>\n",
              "      <th>OnlineSecurity</th>\n",
              "      <th>OnlineBackup</th>\n",
              "      <th>DeviceProtection</th>\n",
              "      <th>TechSupport</th>\n",
              "      <th>StreamingTV</th>\n",
              "      <th>StreamingMovies</th>\n",
              "      <th>PaperlessBilling</th>\n",
              "      <th>PaymentMethod</th>\n",
              "      <th>Tenure</th>\n",
              "      <th>MonthlyCharge</th>\n",
              "      <th>Bandwidth_GB_Year</th>\n",
              "      <th>Item1</th>\n",
              "      <th>Item2</th>\n",
              "      <th>Item3</th>\n",
              "      <th>Item4</th>\n",
              "      <th>Item5</th>\n",
              "      <th>Item6</th>\n",
              "      <th>Item7</th>\n",
              "      <th>Item8</th>\n",
              "    </tr>\n",
              "  </thead>\n",
              "  <tbody>\n",
              "    <tr>\n",
              "      <th>0</th>\n",
              "      <td>1</td>\n",
              "      <td>K409198</td>\n",
              "      <td>aa90260b-4141-4a24-8e36-b04ce1f4f77b</td>\n",
              "      <td>e885b299883d4f9fb18e39c75155d990</td>\n",
              "      <td>Point Baker</td>\n",
              "      <td>AK</td>\n",
              "      <td>Prince of Wales-Hyder</td>\n",
              "      <td>99927</td>\n",
              "      <td>56.25100</td>\n",
              "      <td>-133.37571</td>\n",
              "      <td>38</td>\n",
              "      <td>Urban</td>\n",
              "      <td>America/Sitka</td>\n",
              "      <td>Environmental health practitioner</td>\n",
              "      <td>0</td>\n",
              "      <td>68</td>\n",
              "      <td>28561.99</td>\n",
              "      <td>Widowed</td>\n",
              "      <td>Male</td>\n",
              "      <td>No</td>\n",
              "      <td>7.978323</td>\n",
              "      <td>10</td>\n",
              "      <td>0</td>\n",
              "      <td>1</td>\n",
              "      <td>No</td>\n",
              "      <td>One year</td>\n",
              "      <td>Yes</td>\n",
              "      <td>Yes</td>\n",
              "      <td>Fiber Optic</td>\n",
              "      <td>Yes</td>\n",
              "      <td>No</td>\n",
              "      <td>Yes</td>\n",
              "      <td>Yes</td>\n",
              "      <td>No</td>\n",
              "      <td>No</td>\n",
              "      <td>No</td>\n",
              "      <td>Yes</td>\n",
              "      <td>Yes</td>\n",
              "      <td>Credit Card (automatic)</td>\n",
              "      <td>6.795513</td>\n",
              "      <td>172.455519</td>\n",
              "      <td>904.536110</td>\n",
              "      <td>5</td>\n",
              "      <td>5</td>\n",
              "      <td>5</td>\n",
              "      <td>3</td>\n",
              "      <td>4</td>\n",
              "      <td>4</td>\n",
              "      <td>3</td>\n",
              "      <td>4</td>\n",
              "    </tr>\n",
              "    <tr>\n",
              "      <th>1</th>\n",
              "      <td>2</td>\n",
              "      <td>S120509</td>\n",
              "      <td>fb76459f-c047-4a9d-8af9-e0f7d4ac2524</td>\n",
              "      <td>f2de8bef964785f41a2959829830fb8a</td>\n",
              "      <td>West Branch</td>\n",
              "      <td>MI</td>\n",
              "      <td>Ogemaw</td>\n",
              "      <td>48661</td>\n",
              "      <td>44.32893</td>\n",
              "      <td>-84.24080</td>\n",
              "      <td>10446</td>\n",
              "      <td>Urban</td>\n",
              "      <td>America/Detroit</td>\n",
              "      <td>Programmer, multimedia</td>\n",
              "      <td>1</td>\n",
              "      <td>27</td>\n",
              "      <td>21704.77</td>\n",
              "      <td>Married</td>\n",
              "      <td>Female</td>\n",
              "      <td>Yes</td>\n",
              "      <td>11.699080</td>\n",
              "      <td>12</td>\n",
              "      <td>0</td>\n",
              "      <td>1</td>\n",
              "      <td>Yes</td>\n",
              "      <td>Month-to-month</td>\n",
              "      <td>No</td>\n",
              "      <td>Yes</td>\n",
              "      <td>Fiber Optic</td>\n",
              "      <td>Yes</td>\n",
              "      <td>Yes</td>\n",
              "      <td>Yes</td>\n",
              "      <td>No</td>\n",
              "      <td>No</td>\n",
              "      <td>No</td>\n",
              "      <td>Yes</td>\n",
              "      <td>Yes</td>\n",
              "      <td>Yes</td>\n",
              "      <td>Bank Transfer(automatic)</td>\n",
              "      <td>1.156681</td>\n",
              "      <td>242.632554</td>\n",
              "      <td>800.982766</td>\n",
              "      <td>3</td>\n",
              "      <td>4</td>\n",
              "      <td>3</td>\n",
              "      <td>3</td>\n",
              "      <td>4</td>\n",
              "      <td>3</td>\n",
              "      <td>4</td>\n",
              "      <td>4</td>\n",
              "    </tr>\n",
              "    <tr>\n",
              "      <th>2</th>\n",
              "      <td>3</td>\n",
              "      <td>K191035</td>\n",
              "      <td>344d114c-3736-4be5-98f7-c72c281e2d35</td>\n",
              "      <td>f1784cfa9f6d92ae816197eb175d3c71</td>\n",
              "      <td>Yamhill</td>\n",
              "      <td>OR</td>\n",
              "      <td>Yamhill</td>\n",
              "      <td>97148</td>\n",
              "      <td>45.35589</td>\n",
              "      <td>-123.24657</td>\n",
              "      <td>3735</td>\n",
              "      <td>Urban</td>\n",
              "      <td>America/Los_Angeles</td>\n",
              "      <td>Chief Financial Officer</td>\n",
              "      <td>4</td>\n",
              "      <td>50</td>\n",
              "      <td>9609.57</td>\n",
              "      <td>Widowed</td>\n",
              "      <td>Female</td>\n",
              "      <td>No</td>\n",
              "      <td>10.752800</td>\n",
              "      <td>9</td>\n",
              "      <td>0</td>\n",
              "      <td>1</td>\n",
              "      <td>Yes</td>\n",
              "      <td>Two Year</td>\n",
              "      <td>Yes</td>\n",
              "      <td>No</td>\n",
              "      <td>DSL</td>\n",
              "      <td>Yes</td>\n",
              "      <td>Yes</td>\n",
              "      <td>No</td>\n",
              "      <td>No</td>\n",
              "      <td>No</td>\n",
              "      <td>No</td>\n",
              "      <td>No</td>\n",
              "      <td>Yes</td>\n",
              "      <td>Yes</td>\n",
              "      <td>Credit Card (automatic)</td>\n",
              "      <td>15.754144</td>\n",
              "      <td>159.947583</td>\n",
              "      <td>2054.706961</td>\n",
              "      <td>4</td>\n",
              "      <td>4</td>\n",
              "      <td>2</td>\n",
              "      <td>4</td>\n",
              "      <td>4</td>\n",
              "      <td>3</td>\n",
              "      <td>3</td>\n",
              "      <td>3</td>\n",
              "    </tr>\n",
              "    <tr>\n",
              "      <th>3</th>\n",
              "      <td>4</td>\n",
              "      <td>D90850</td>\n",
              "      <td>abfa2b40-2d43-4994-b15a-989b8c79e311</td>\n",
              "      <td>dc8a365077241bb5cd5ccd305136b05e</td>\n",
              "      <td>Del Mar</td>\n",
              "      <td>CA</td>\n",
              "      <td>San Diego</td>\n",
              "      <td>92014</td>\n",
              "      <td>32.96687</td>\n",
              "      <td>-117.24798</td>\n",
              "      <td>13863</td>\n",
              "      <td>Suburban</td>\n",
              "      <td>America/Los_Angeles</td>\n",
              "      <td>Solicitor</td>\n",
              "      <td>1</td>\n",
              "      <td>48</td>\n",
              "      <td>18925.23</td>\n",
              "      <td>Married</td>\n",
              "      <td>Male</td>\n",
              "      <td>No</td>\n",
              "      <td>14.913540</td>\n",
              "      <td>15</td>\n",
              "      <td>2</td>\n",
              "      <td>0</td>\n",
              "      <td>Yes</td>\n",
              "      <td>Two Year</td>\n",
              "      <td>No</td>\n",
              "      <td>No</td>\n",
              "      <td>DSL</td>\n",
              "      <td>Yes</td>\n",
              "      <td>No</td>\n",
              "      <td>Yes</td>\n",
              "      <td>No</td>\n",
              "      <td>No</td>\n",
              "      <td>No</td>\n",
              "      <td>Yes</td>\n",
              "      <td>No</td>\n",
              "      <td>Yes</td>\n",
              "      <td>Mailed Check</td>\n",
              "      <td>17.087227</td>\n",
              "      <td>119.956840</td>\n",
              "      <td>2164.579412</td>\n",
              "      <td>4</td>\n",
              "      <td>4</td>\n",
              "      <td>4</td>\n",
              "      <td>2</td>\n",
              "      <td>5</td>\n",
              "      <td>4</td>\n",
              "      <td>3</td>\n",
              "      <td>3</td>\n",
              "    </tr>\n",
              "    <tr>\n",
              "      <th>4</th>\n",
              "      <td>5</td>\n",
              "      <td>K662701</td>\n",
              "      <td>68a861fd-0d20-4e51-a587-8a90407ee574</td>\n",
              "      <td>aabb64a116e83fdc4befc1fbab1663f9</td>\n",
              "      <td>Needville</td>\n",
              "      <td>TX</td>\n",
              "      <td>Fort Bend</td>\n",
              "      <td>77461</td>\n",
              "      <td>29.38012</td>\n",
              "      <td>-95.80673</td>\n",
              "      <td>11352</td>\n",
              "      <td>Suburban</td>\n",
              "      <td>America/Chicago</td>\n",
              "      <td>Medical illustrator</td>\n",
              "      <td>0</td>\n",
              "      <td>83</td>\n",
              "      <td>40074.19</td>\n",
              "      <td>Separated</td>\n",
              "      <td>Male</td>\n",
              "      <td>Yes</td>\n",
              "      <td>8.147417</td>\n",
              "      <td>16</td>\n",
              "      <td>2</td>\n",
              "      <td>1</td>\n",
              "      <td>No</td>\n",
              "      <td>Month-to-month</td>\n",
              "      <td>Yes</td>\n",
              "      <td>No</td>\n",
              "      <td>Fiber Optic</td>\n",
              "      <td>No</td>\n",
              "      <td>No</td>\n",
              "      <td>No</td>\n",
              "      <td>No</td>\n",
              "      <td>No</td>\n",
              "      <td>Yes</td>\n",
              "      <td>Yes</td>\n",
              "      <td>No</td>\n",
              "      <td>No</td>\n",
              "      <td>Mailed Check</td>\n",
              "      <td>1.670972</td>\n",
              "      <td>149.948316</td>\n",
              "      <td>271.493436</td>\n",
              "      <td>4</td>\n",
              "      <td>4</td>\n",
              "      <td>4</td>\n",
              "      <td>3</td>\n",
              "      <td>4</td>\n",
              "      <td>4</td>\n",
              "      <td>4</td>\n",
              "      <td>5</td>\n",
              "    </tr>\n",
              "  </tbody>\n",
              "</table>\n",
              "</div>"
            ],
            "text/plain": [
              "   CaseOrder Customer_id  ... Item7 Item8\n",
              "0          1     K409198  ...     3     4\n",
              "1          2     S120509  ...     4     4\n",
              "2          3     K191035  ...     3     3\n",
              "3          4      D90850  ...     3     3\n",
              "4          5     K662701  ...     4     5\n",
              "\n",
              "[5 rows x 50 columns]"
            ]
          },
          "metadata": {},
          "execution_count": 7
        }
      ]
    },
    {
      "cell_type": "code",
      "metadata": {
        "id": "pSSKKeFT6WPY"
      },
      "source": [
        "# Rename all survey questions to approiate name\n",
        "df.rename(columns={\n",
        "    'Item1' : 'Timely response',\n",
        "    'Item2' : 'Timely fixes',\n",
        "    'Item3' : 'Timely replacements',\n",
        "    'Item4' : 'Reliability',\n",
        "    'Item5' : 'Options',\n",
        "    'Item6' : 'Respectful response',\n",
        "    'Item7' : 'Courteous exchange',\n",
        "    'Item8' : 'Evidence of active listening',\n",
        "}, inplace = True) \n"
      ],
      "execution_count": null,
      "outputs": []
    },
    {
      "cell_type": "code",
      "metadata": {
        "colab": {
          "base_uri": "https://localhost:8080/",
          "height": 513
        },
        "id": "lO5OLbUL8BnZ",
        "outputId": "46544df9-653d-4b6f-871c-34ada7432fe2"
      },
      "source": [
        "# Check if rename took effect and saved\n",
        "df.head(5)"
      ],
      "execution_count": null,
      "outputs": [
        {
          "output_type": "execute_result",
          "data": {
            "text/html": [
              "<div>\n",
              "<style scoped>\n",
              "    .dataframe tbody tr th:only-of-type {\n",
              "        vertical-align: middle;\n",
              "    }\n",
              "\n",
              "    .dataframe tbody tr th {\n",
              "        vertical-align: top;\n",
              "    }\n",
              "\n",
              "    .dataframe thead th {\n",
              "        text-align: right;\n",
              "    }\n",
              "</style>\n",
              "<table border=\"1\" class=\"dataframe\">\n",
              "  <thead>\n",
              "    <tr style=\"text-align: right;\">\n",
              "      <th></th>\n",
              "      <th>CaseOrder</th>\n",
              "      <th>Customer_id</th>\n",
              "      <th>Interaction</th>\n",
              "      <th>UID</th>\n",
              "      <th>City</th>\n",
              "      <th>State</th>\n",
              "      <th>County</th>\n",
              "      <th>Zip</th>\n",
              "      <th>Lat</th>\n",
              "      <th>Lng</th>\n",
              "      <th>Population</th>\n",
              "      <th>Area</th>\n",
              "      <th>TimeZone</th>\n",
              "      <th>Job</th>\n",
              "      <th>Children</th>\n",
              "      <th>Age</th>\n",
              "      <th>Income</th>\n",
              "      <th>Marital</th>\n",
              "      <th>Gender</th>\n",
              "      <th>Churn</th>\n",
              "      <th>Outage_sec_perweek</th>\n",
              "      <th>Email</th>\n",
              "      <th>Contacts</th>\n",
              "      <th>Yearly_equip_failure</th>\n",
              "      <th>Techie</th>\n",
              "      <th>Contract</th>\n",
              "      <th>Port_modem</th>\n",
              "      <th>Tablet</th>\n",
              "      <th>InternetService</th>\n",
              "      <th>Phone</th>\n",
              "      <th>Multiple</th>\n",
              "      <th>OnlineSecurity</th>\n",
              "      <th>OnlineBackup</th>\n",
              "      <th>DeviceProtection</th>\n",
              "      <th>TechSupport</th>\n",
              "      <th>StreamingTV</th>\n",
              "      <th>StreamingMovies</th>\n",
              "      <th>PaperlessBilling</th>\n",
              "      <th>PaymentMethod</th>\n",
              "      <th>Tenure</th>\n",
              "      <th>MonthlyCharge</th>\n",
              "      <th>Bandwidth_GB_Year</th>\n",
              "      <th>Timely response</th>\n",
              "      <th>Timely fixes</th>\n",
              "      <th>Timely replacements</th>\n",
              "      <th>Reliability</th>\n",
              "      <th>Options</th>\n",
              "      <th>Respectful response</th>\n",
              "      <th>Courteous exchange</th>\n",
              "      <th>Evidence of active listening</th>\n",
              "    </tr>\n",
              "  </thead>\n",
              "  <tbody>\n",
              "    <tr>\n",
              "      <th>0</th>\n",
              "      <td>1</td>\n",
              "      <td>K409198</td>\n",
              "      <td>aa90260b-4141-4a24-8e36-b04ce1f4f77b</td>\n",
              "      <td>e885b299883d4f9fb18e39c75155d990</td>\n",
              "      <td>Point Baker</td>\n",
              "      <td>AK</td>\n",
              "      <td>Prince of Wales-Hyder</td>\n",
              "      <td>99927</td>\n",
              "      <td>56.25100</td>\n",
              "      <td>-133.37571</td>\n",
              "      <td>38</td>\n",
              "      <td>Urban</td>\n",
              "      <td>America/Sitka</td>\n",
              "      <td>Environmental health practitioner</td>\n",
              "      <td>0</td>\n",
              "      <td>68</td>\n",
              "      <td>28561.99</td>\n",
              "      <td>Widowed</td>\n",
              "      <td>Male</td>\n",
              "      <td>No</td>\n",
              "      <td>7.978323</td>\n",
              "      <td>10</td>\n",
              "      <td>0</td>\n",
              "      <td>1</td>\n",
              "      <td>No</td>\n",
              "      <td>One year</td>\n",
              "      <td>Yes</td>\n",
              "      <td>Yes</td>\n",
              "      <td>Fiber Optic</td>\n",
              "      <td>Yes</td>\n",
              "      <td>No</td>\n",
              "      <td>Yes</td>\n",
              "      <td>Yes</td>\n",
              "      <td>No</td>\n",
              "      <td>No</td>\n",
              "      <td>No</td>\n",
              "      <td>Yes</td>\n",
              "      <td>Yes</td>\n",
              "      <td>Credit Card (automatic)</td>\n",
              "      <td>6.795513</td>\n",
              "      <td>172.455519</td>\n",
              "      <td>904.536110</td>\n",
              "      <td>5</td>\n",
              "      <td>5</td>\n",
              "      <td>5</td>\n",
              "      <td>3</td>\n",
              "      <td>4</td>\n",
              "      <td>4</td>\n",
              "      <td>3</td>\n",
              "      <td>4</td>\n",
              "    </tr>\n",
              "    <tr>\n",
              "      <th>1</th>\n",
              "      <td>2</td>\n",
              "      <td>S120509</td>\n",
              "      <td>fb76459f-c047-4a9d-8af9-e0f7d4ac2524</td>\n",
              "      <td>f2de8bef964785f41a2959829830fb8a</td>\n",
              "      <td>West Branch</td>\n",
              "      <td>MI</td>\n",
              "      <td>Ogemaw</td>\n",
              "      <td>48661</td>\n",
              "      <td>44.32893</td>\n",
              "      <td>-84.24080</td>\n",
              "      <td>10446</td>\n",
              "      <td>Urban</td>\n",
              "      <td>America/Detroit</td>\n",
              "      <td>Programmer, multimedia</td>\n",
              "      <td>1</td>\n",
              "      <td>27</td>\n",
              "      <td>21704.77</td>\n",
              "      <td>Married</td>\n",
              "      <td>Female</td>\n",
              "      <td>Yes</td>\n",
              "      <td>11.699080</td>\n",
              "      <td>12</td>\n",
              "      <td>0</td>\n",
              "      <td>1</td>\n",
              "      <td>Yes</td>\n",
              "      <td>Month-to-month</td>\n",
              "      <td>No</td>\n",
              "      <td>Yes</td>\n",
              "      <td>Fiber Optic</td>\n",
              "      <td>Yes</td>\n",
              "      <td>Yes</td>\n",
              "      <td>Yes</td>\n",
              "      <td>No</td>\n",
              "      <td>No</td>\n",
              "      <td>No</td>\n",
              "      <td>Yes</td>\n",
              "      <td>Yes</td>\n",
              "      <td>Yes</td>\n",
              "      <td>Bank Transfer(automatic)</td>\n",
              "      <td>1.156681</td>\n",
              "      <td>242.632554</td>\n",
              "      <td>800.982766</td>\n",
              "      <td>3</td>\n",
              "      <td>4</td>\n",
              "      <td>3</td>\n",
              "      <td>3</td>\n",
              "      <td>4</td>\n",
              "      <td>3</td>\n",
              "      <td>4</td>\n",
              "      <td>4</td>\n",
              "    </tr>\n",
              "    <tr>\n",
              "      <th>2</th>\n",
              "      <td>3</td>\n",
              "      <td>K191035</td>\n",
              "      <td>344d114c-3736-4be5-98f7-c72c281e2d35</td>\n",
              "      <td>f1784cfa9f6d92ae816197eb175d3c71</td>\n",
              "      <td>Yamhill</td>\n",
              "      <td>OR</td>\n",
              "      <td>Yamhill</td>\n",
              "      <td>97148</td>\n",
              "      <td>45.35589</td>\n",
              "      <td>-123.24657</td>\n",
              "      <td>3735</td>\n",
              "      <td>Urban</td>\n",
              "      <td>America/Los_Angeles</td>\n",
              "      <td>Chief Financial Officer</td>\n",
              "      <td>4</td>\n",
              "      <td>50</td>\n",
              "      <td>9609.57</td>\n",
              "      <td>Widowed</td>\n",
              "      <td>Female</td>\n",
              "      <td>No</td>\n",
              "      <td>10.752800</td>\n",
              "      <td>9</td>\n",
              "      <td>0</td>\n",
              "      <td>1</td>\n",
              "      <td>Yes</td>\n",
              "      <td>Two Year</td>\n",
              "      <td>Yes</td>\n",
              "      <td>No</td>\n",
              "      <td>DSL</td>\n",
              "      <td>Yes</td>\n",
              "      <td>Yes</td>\n",
              "      <td>No</td>\n",
              "      <td>No</td>\n",
              "      <td>No</td>\n",
              "      <td>No</td>\n",
              "      <td>No</td>\n",
              "      <td>Yes</td>\n",
              "      <td>Yes</td>\n",
              "      <td>Credit Card (automatic)</td>\n",
              "      <td>15.754144</td>\n",
              "      <td>159.947583</td>\n",
              "      <td>2054.706961</td>\n",
              "      <td>4</td>\n",
              "      <td>4</td>\n",
              "      <td>2</td>\n",
              "      <td>4</td>\n",
              "      <td>4</td>\n",
              "      <td>3</td>\n",
              "      <td>3</td>\n",
              "      <td>3</td>\n",
              "    </tr>\n",
              "    <tr>\n",
              "      <th>3</th>\n",
              "      <td>4</td>\n",
              "      <td>D90850</td>\n",
              "      <td>abfa2b40-2d43-4994-b15a-989b8c79e311</td>\n",
              "      <td>dc8a365077241bb5cd5ccd305136b05e</td>\n",
              "      <td>Del Mar</td>\n",
              "      <td>CA</td>\n",
              "      <td>San Diego</td>\n",
              "      <td>92014</td>\n",
              "      <td>32.96687</td>\n",
              "      <td>-117.24798</td>\n",
              "      <td>13863</td>\n",
              "      <td>Suburban</td>\n",
              "      <td>America/Los_Angeles</td>\n",
              "      <td>Solicitor</td>\n",
              "      <td>1</td>\n",
              "      <td>48</td>\n",
              "      <td>18925.23</td>\n",
              "      <td>Married</td>\n",
              "      <td>Male</td>\n",
              "      <td>No</td>\n",
              "      <td>14.913540</td>\n",
              "      <td>15</td>\n",
              "      <td>2</td>\n",
              "      <td>0</td>\n",
              "      <td>Yes</td>\n",
              "      <td>Two Year</td>\n",
              "      <td>No</td>\n",
              "      <td>No</td>\n",
              "      <td>DSL</td>\n",
              "      <td>Yes</td>\n",
              "      <td>No</td>\n",
              "      <td>Yes</td>\n",
              "      <td>No</td>\n",
              "      <td>No</td>\n",
              "      <td>No</td>\n",
              "      <td>Yes</td>\n",
              "      <td>No</td>\n",
              "      <td>Yes</td>\n",
              "      <td>Mailed Check</td>\n",
              "      <td>17.087227</td>\n",
              "      <td>119.956840</td>\n",
              "      <td>2164.579412</td>\n",
              "      <td>4</td>\n",
              "      <td>4</td>\n",
              "      <td>4</td>\n",
              "      <td>2</td>\n",
              "      <td>5</td>\n",
              "      <td>4</td>\n",
              "      <td>3</td>\n",
              "      <td>3</td>\n",
              "    </tr>\n",
              "    <tr>\n",
              "      <th>4</th>\n",
              "      <td>5</td>\n",
              "      <td>K662701</td>\n",
              "      <td>68a861fd-0d20-4e51-a587-8a90407ee574</td>\n",
              "      <td>aabb64a116e83fdc4befc1fbab1663f9</td>\n",
              "      <td>Needville</td>\n",
              "      <td>TX</td>\n",
              "      <td>Fort Bend</td>\n",
              "      <td>77461</td>\n",
              "      <td>29.38012</td>\n",
              "      <td>-95.80673</td>\n",
              "      <td>11352</td>\n",
              "      <td>Suburban</td>\n",
              "      <td>America/Chicago</td>\n",
              "      <td>Medical illustrator</td>\n",
              "      <td>0</td>\n",
              "      <td>83</td>\n",
              "      <td>40074.19</td>\n",
              "      <td>Separated</td>\n",
              "      <td>Male</td>\n",
              "      <td>Yes</td>\n",
              "      <td>8.147417</td>\n",
              "      <td>16</td>\n",
              "      <td>2</td>\n",
              "      <td>1</td>\n",
              "      <td>No</td>\n",
              "      <td>Month-to-month</td>\n",
              "      <td>Yes</td>\n",
              "      <td>No</td>\n",
              "      <td>Fiber Optic</td>\n",
              "      <td>No</td>\n",
              "      <td>No</td>\n",
              "      <td>No</td>\n",
              "      <td>No</td>\n",
              "      <td>No</td>\n",
              "      <td>Yes</td>\n",
              "      <td>Yes</td>\n",
              "      <td>No</td>\n",
              "      <td>No</td>\n",
              "      <td>Mailed Check</td>\n",
              "      <td>1.670972</td>\n",
              "      <td>149.948316</td>\n",
              "      <td>271.493436</td>\n",
              "      <td>4</td>\n",
              "      <td>4</td>\n",
              "      <td>4</td>\n",
              "      <td>3</td>\n",
              "      <td>4</td>\n",
              "      <td>4</td>\n",
              "      <td>4</td>\n",
              "      <td>5</td>\n",
              "    </tr>\n",
              "  </tbody>\n",
              "</table>\n",
              "</div>"
            ],
            "text/plain": [
              "   CaseOrder Customer_id  ... Courteous exchange Evidence of active listening\n",
              "0          1     K409198  ...                  3                            4\n",
              "1          2     S120509  ...                  4                            4\n",
              "2          3     K191035  ...                  3                            3\n",
              "3          4      D90850  ...                  3                            3\n",
              "4          5     K662701  ...                  4                            5\n",
              "\n",
              "[5 rows x 50 columns]"
            ]
          },
          "metadata": {},
          "execution_count": 11
        }
      ]
    },
    {
      "cell_type": "code",
      "metadata": {
        "colab": {
          "base_uri": "https://localhost:8080/",
          "height": 351
        },
        "id": "c3DrlPuNHrgQ",
        "outputId": "794a9175-45ac-4fda-daab-eb959baa018c"
      },
      "source": [
        "# Describe the data\n",
        "df.describe()"
      ],
      "execution_count": null,
      "outputs": [
        {
          "output_type": "execute_result",
          "data": {
            "text/html": [
              "<div>\n",
              "<style scoped>\n",
              "    .dataframe tbody tr th:only-of-type {\n",
              "        vertical-align: middle;\n",
              "    }\n",
              "\n",
              "    .dataframe tbody tr th {\n",
              "        vertical-align: top;\n",
              "    }\n",
              "\n",
              "    .dataframe thead th {\n",
              "        text-align: right;\n",
              "    }\n",
              "</style>\n",
              "<table border=\"1\" class=\"dataframe\">\n",
              "  <thead>\n",
              "    <tr style=\"text-align: right;\">\n",
              "      <th></th>\n",
              "      <th>CaseOrder</th>\n",
              "      <th>Zip</th>\n",
              "      <th>Lat</th>\n",
              "      <th>Lng</th>\n",
              "      <th>Population</th>\n",
              "      <th>Children</th>\n",
              "      <th>Age</th>\n",
              "      <th>Income</th>\n",
              "      <th>Outage_sec_perweek</th>\n",
              "      <th>Email</th>\n",
              "      <th>Contacts</th>\n",
              "      <th>Yearly_equip_failure</th>\n",
              "      <th>Tenure</th>\n",
              "      <th>MonthlyCharge</th>\n",
              "      <th>Bandwidth_GB_Year</th>\n",
              "      <th>Timely response</th>\n",
              "      <th>Timely fixes</th>\n",
              "      <th>Timely replacements</th>\n",
              "      <th>Reliability</th>\n",
              "      <th>Options</th>\n",
              "      <th>Respectful response</th>\n",
              "      <th>Courteous exchange</th>\n",
              "      <th>Evidence of active listening</th>\n",
              "    </tr>\n",
              "  </thead>\n",
              "  <tbody>\n",
              "    <tr>\n",
              "      <th>count</th>\n",
              "      <td>10000.00000</td>\n",
              "      <td>10000.000000</td>\n",
              "      <td>10000.000000</td>\n",
              "      <td>10000.000000</td>\n",
              "      <td>10000.000000</td>\n",
              "      <td>10000.0000</td>\n",
              "      <td>10000.000000</td>\n",
              "      <td>10000.000000</td>\n",
              "      <td>10000.000000</td>\n",
              "      <td>10000.000000</td>\n",
              "      <td>10000.000000</td>\n",
              "      <td>10000.000000</td>\n",
              "      <td>10000.000000</td>\n",
              "      <td>10000.000000</td>\n",
              "      <td>10000.000000</td>\n",
              "      <td>10000.000000</td>\n",
              "      <td>10000.000000</td>\n",
              "      <td>10000.000000</td>\n",
              "      <td>10000.000000</td>\n",
              "      <td>10000.000000</td>\n",
              "      <td>10000.000000</td>\n",
              "      <td>10000.000000</td>\n",
              "      <td>10000.000000</td>\n",
              "    </tr>\n",
              "    <tr>\n",
              "      <th>mean</th>\n",
              "      <td>5000.50000</td>\n",
              "      <td>49153.319600</td>\n",
              "      <td>38.757567</td>\n",
              "      <td>-90.782536</td>\n",
              "      <td>9756.562400</td>\n",
              "      <td>2.0877</td>\n",
              "      <td>53.078400</td>\n",
              "      <td>39806.926771</td>\n",
              "      <td>10.001848</td>\n",
              "      <td>12.016000</td>\n",
              "      <td>0.994200</td>\n",
              "      <td>0.398000</td>\n",
              "      <td>34.526188</td>\n",
              "      <td>172.624816</td>\n",
              "      <td>3392.341550</td>\n",
              "      <td>3.490800</td>\n",
              "      <td>3.505100</td>\n",
              "      <td>3.487000</td>\n",
              "      <td>3.497500</td>\n",
              "      <td>3.492900</td>\n",
              "      <td>3.497300</td>\n",
              "      <td>3.509500</td>\n",
              "      <td>3.495600</td>\n",
              "    </tr>\n",
              "    <tr>\n",
              "      <th>std</th>\n",
              "      <td>2886.89568</td>\n",
              "      <td>27532.196108</td>\n",
              "      <td>5.437389</td>\n",
              "      <td>15.156142</td>\n",
              "      <td>14432.698671</td>\n",
              "      <td>2.1472</td>\n",
              "      <td>20.698882</td>\n",
              "      <td>28199.916702</td>\n",
              "      <td>2.976019</td>\n",
              "      <td>3.025898</td>\n",
              "      <td>0.988466</td>\n",
              "      <td>0.635953</td>\n",
              "      <td>26.443063</td>\n",
              "      <td>42.943094</td>\n",
              "      <td>2185.294852</td>\n",
              "      <td>1.037797</td>\n",
              "      <td>1.034641</td>\n",
              "      <td>1.027977</td>\n",
              "      <td>1.025816</td>\n",
              "      <td>1.024819</td>\n",
              "      <td>1.033586</td>\n",
              "      <td>1.028502</td>\n",
              "      <td>1.028633</td>\n",
              "    </tr>\n",
              "    <tr>\n",
              "      <th>min</th>\n",
              "      <td>1.00000</td>\n",
              "      <td>601.000000</td>\n",
              "      <td>17.966120</td>\n",
              "      <td>-171.688150</td>\n",
              "      <td>0.000000</td>\n",
              "      <td>0.0000</td>\n",
              "      <td>18.000000</td>\n",
              "      <td>348.670000</td>\n",
              "      <td>0.099747</td>\n",
              "      <td>1.000000</td>\n",
              "      <td>0.000000</td>\n",
              "      <td>0.000000</td>\n",
              "      <td>1.000259</td>\n",
              "      <td>79.978860</td>\n",
              "      <td>155.506715</td>\n",
              "      <td>1.000000</td>\n",
              "      <td>1.000000</td>\n",
              "      <td>1.000000</td>\n",
              "      <td>1.000000</td>\n",
              "      <td>1.000000</td>\n",
              "      <td>1.000000</td>\n",
              "      <td>1.000000</td>\n",
              "      <td>1.000000</td>\n",
              "    </tr>\n",
              "    <tr>\n",
              "      <th>25%</th>\n",
              "      <td>2500.75000</td>\n",
              "      <td>26292.500000</td>\n",
              "      <td>35.341828</td>\n",
              "      <td>-97.082813</td>\n",
              "      <td>738.000000</td>\n",
              "      <td>0.0000</td>\n",
              "      <td>35.000000</td>\n",
              "      <td>19224.717500</td>\n",
              "      <td>8.018214</td>\n",
              "      <td>10.000000</td>\n",
              "      <td>0.000000</td>\n",
              "      <td>0.000000</td>\n",
              "      <td>7.917694</td>\n",
              "      <td>139.979239</td>\n",
              "      <td>1236.470827</td>\n",
              "      <td>3.000000</td>\n",
              "      <td>3.000000</td>\n",
              "      <td>3.000000</td>\n",
              "      <td>3.000000</td>\n",
              "      <td>3.000000</td>\n",
              "      <td>3.000000</td>\n",
              "      <td>3.000000</td>\n",
              "      <td>3.000000</td>\n",
              "    </tr>\n",
              "    <tr>\n",
              "      <th>50%</th>\n",
              "      <td>5000.50000</td>\n",
              "      <td>48869.500000</td>\n",
              "      <td>39.395800</td>\n",
              "      <td>-87.918800</td>\n",
              "      <td>2910.500000</td>\n",
              "      <td>1.0000</td>\n",
              "      <td>53.000000</td>\n",
              "      <td>33170.605000</td>\n",
              "      <td>10.018560</td>\n",
              "      <td>12.000000</td>\n",
              "      <td>1.000000</td>\n",
              "      <td>0.000000</td>\n",
              "      <td>35.430507</td>\n",
              "      <td>167.484700</td>\n",
              "      <td>3279.536903</td>\n",
              "      <td>3.000000</td>\n",
              "      <td>4.000000</td>\n",
              "      <td>3.000000</td>\n",
              "      <td>3.000000</td>\n",
              "      <td>3.000000</td>\n",
              "      <td>3.000000</td>\n",
              "      <td>4.000000</td>\n",
              "      <td>3.000000</td>\n",
              "    </tr>\n",
              "    <tr>\n",
              "      <th>75%</th>\n",
              "      <td>7500.25000</td>\n",
              "      <td>71866.500000</td>\n",
              "      <td>42.106908</td>\n",
              "      <td>-80.088745</td>\n",
              "      <td>13168.000000</td>\n",
              "      <td>3.0000</td>\n",
              "      <td>71.000000</td>\n",
              "      <td>53246.170000</td>\n",
              "      <td>11.969485</td>\n",
              "      <td>14.000000</td>\n",
              "      <td>2.000000</td>\n",
              "      <td>1.000000</td>\n",
              "      <td>61.479795</td>\n",
              "      <td>200.734725</td>\n",
              "      <td>5586.141369</td>\n",
              "      <td>4.000000</td>\n",
              "      <td>4.000000</td>\n",
              "      <td>4.000000</td>\n",
              "      <td>4.000000</td>\n",
              "      <td>4.000000</td>\n",
              "      <td>4.000000</td>\n",
              "      <td>4.000000</td>\n",
              "      <td>4.000000</td>\n",
              "    </tr>\n",
              "    <tr>\n",
              "      <th>max</th>\n",
              "      <td>10000.00000</td>\n",
              "      <td>99929.000000</td>\n",
              "      <td>70.640660</td>\n",
              "      <td>-65.667850</td>\n",
              "      <td>111850.000000</td>\n",
              "      <td>10.0000</td>\n",
              "      <td>89.000000</td>\n",
              "      <td>258900.700000</td>\n",
              "      <td>21.207230</td>\n",
              "      <td>23.000000</td>\n",
              "      <td>7.000000</td>\n",
              "      <td>6.000000</td>\n",
              "      <td>71.999280</td>\n",
              "      <td>290.160419</td>\n",
              "      <td>7158.981530</td>\n",
              "      <td>7.000000</td>\n",
              "      <td>7.000000</td>\n",
              "      <td>8.000000</td>\n",
              "      <td>7.000000</td>\n",
              "      <td>7.000000</td>\n",
              "      <td>8.000000</td>\n",
              "      <td>7.000000</td>\n",
              "      <td>8.000000</td>\n",
              "    </tr>\n",
              "  </tbody>\n",
              "</table>\n",
              "</div>"
            ],
            "text/plain": [
              "         CaseOrder  ...  Evidence of active listening\n",
              "count  10000.00000  ...                  10000.000000\n",
              "mean    5000.50000  ...                      3.495600\n",
              "std     2886.89568  ...                      1.028633\n",
              "min        1.00000  ...                      1.000000\n",
              "25%     2500.75000  ...                      3.000000\n",
              "50%     5000.50000  ...                      3.000000\n",
              "75%     7500.25000  ...                      4.000000\n",
              "max    10000.00000  ...                      8.000000\n",
              "\n",
              "[8 rows x 23 columns]"
            ]
          },
          "metadata": {},
          "execution_count": 40
        }
      ]
    },
    {
      "cell_type": "code",
      "metadata": {
        "id": "GVri9M11-XCN"
      },
      "source": [
        "#Built two tables just for learning purposes"
      ],
      "execution_count": null,
      "outputs": []
    },
    {
      "cell_type": "code",
      "metadata": {
        "colab": {
          "base_uri": "https://localhost:8080/",
          "height": 142
        },
        "id": "LD_7sVDs8LIc",
        "outputId": "d09e6cf6-c006-42c8-c60a-6999025311d3"
      },
      "source": [
        "# Build a table for 2 or more variables also know as a contingency table\n",
        "continTable = pd.crosstab(df['Churn'], df['Timely response'])\n",
        "continTable # recall variable to print to screen"
      ],
      "execution_count": null,
      "outputs": [
        {
          "output_type": "execute_result",
          "data": {
            "text/html": [
              "<div>\n",
              "<style scoped>\n",
              "    .dataframe tbody tr th:only-of-type {\n",
              "        vertical-align: middle;\n",
              "    }\n",
              "\n",
              "    .dataframe tbody tr th {\n",
              "        vertical-align: top;\n",
              "    }\n",
              "\n",
              "    .dataframe thead th {\n",
              "        text-align: right;\n",
              "    }\n",
              "</style>\n",
              "<table border=\"1\" class=\"dataframe\">\n",
              "  <thead>\n",
              "    <tr style=\"text-align: right;\">\n",
              "      <th>Timely response</th>\n",
              "      <th>1</th>\n",
              "      <th>2</th>\n",
              "      <th>3</th>\n",
              "      <th>4</th>\n",
              "      <th>5</th>\n",
              "      <th>6</th>\n",
              "      <th>7</th>\n",
              "    </tr>\n",
              "    <tr>\n",
              "      <th>Churn</th>\n",
              "      <th></th>\n",
              "      <th></th>\n",
              "      <th></th>\n",
              "      <th></th>\n",
              "      <th></th>\n",
              "      <th></th>\n",
              "      <th></th>\n",
              "    </tr>\n",
              "  </thead>\n",
              "  <tbody>\n",
              "    <tr>\n",
              "      <th>No</th>\n",
              "      <td>158</td>\n",
              "      <td>1002</td>\n",
              "      <td>2562</td>\n",
              "      <td>2473</td>\n",
              "      <td>994</td>\n",
              "      <td>146</td>\n",
              "      <td>15</td>\n",
              "    </tr>\n",
              "    <tr>\n",
              "      <th>Yes</th>\n",
              "      <td>66</td>\n",
              "      <td>391</td>\n",
              "      <td>886</td>\n",
              "      <td>885</td>\n",
              "      <td>365</td>\n",
              "      <td>53</td>\n",
              "      <td>4</td>\n",
              "    </tr>\n",
              "  </tbody>\n",
              "</table>\n",
              "</div>"
            ],
            "text/plain": [
              "Timely response    1     2     3     4    5    6   7\n",
              "Churn                                               \n",
              "No               158  1002  2562  2473  994  146  15\n",
              "Yes               66   391   886   885  365   53   4"
            ]
          },
          "metadata": {},
          "execution_count": 24
        }
      ]
    },
    {
      "cell_type": "code",
      "metadata": {
        "colab": {
          "base_uri": "https://localhost:8080/",
          "height": 142
        },
        "id": "cnfbXvfo9y92",
        "outputId": "7a724bc2-a4d4-491a-f049-aaac2d2a4058"
      },
      "source": [
        "# Build a table for 2 or more variables also know as a contingency table\n",
        "continTable2 = pd.crosstab(df['Churn'], df['Timely fixes'])\n",
        "continTable2 # recall variable to print to screen"
      ],
      "execution_count": null,
      "outputs": [
        {
          "output_type": "execute_result",
          "data": {
            "text/html": [
              "<div>\n",
              "<style scoped>\n",
              "    .dataframe tbody tr th:only-of-type {\n",
              "        vertical-align: middle;\n",
              "    }\n",
              "\n",
              "    .dataframe tbody tr th {\n",
              "        vertical-align: top;\n",
              "    }\n",
              "\n",
              "    .dataframe thead th {\n",
              "        text-align: right;\n",
              "    }\n",
              "</style>\n",
              "<table border=\"1\" class=\"dataframe\">\n",
              "  <thead>\n",
              "    <tr style=\"text-align: right;\">\n",
              "      <th>Timely fixes</th>\n",
              "      <th>1</th>\n",
              "      <th>2</th>\n",
              "      <th>3</th>\n",
              "      <th>4</th>\n",
              "      <th>5</th>\n",
              "      <th>6</th>\n",
              "      <th>7</th>\n",
              "    </tr>\n",
              "    <tr>\n",
              "      <th>Churn</th>\n",
              "      <th></th>\n",
              "      <th></th>\n",
              "      <th></th>\n",
              "      <th></th>\n",
              "      <th></th>\n",
              "      <th></th>\n",
              "      <th></th>\n",
              "    </tr>\n",
              "  </thead>\n",
              "  <tbody>\n",
              "    <tr>\n",
              "      <th>No</th>\n",
              "      <td>160</td>\n",
              "      <td>973</td>\n",
              "      <td>2519</td>\n",
              "      <td>2507</td>\n",
              "      <td>1025</td>\n",
              "      <td>155</td>\n",
              "      <td>11</td>\n",
              "    </tr>\n",
              "    <tr>\n",
              "      <th>Yes</th>\n",
              "      <td>57</td>\n",
              "      <td>387</td>\n",
              "      <td>896</td>\n",
              "      <td>905</td>\n",
              "      <td>343</td>\n",
              "      <td>60</td>\n",
              "      <td>2</td>\n",
              "    </tr>\n",
              "  </tbody>\n",
              "</table>\n",
              "</div>"
            ],
            "text/plain": [
              "Timely fixes    1    2     3     4     5    6   7\n",
              "Churn                                            \n",
              "No            160  973  2519  2507  1025  155  11\n",
              "Yes            57  387   896   905   343   60   2"
            ]
          },
          "metadata": {},
          "execution_count": 25
        }
      ]
    },
    {
      "cell_type": "code",
      "metadata": {
        "colab": {
          "base_uri": "https://localhost:8080/",
          "height": 142
        },
        "id": "WAb3KfTKARmB",
        "outputId": "ab59f901-a499-43ba-a3b2-931ca3de6ca4"
      },
      "source": [
        "# Build table of two variables and give percentange of the data and normalize \n",
        "continTablePercentage = pd.crosstab(df['Churn'], df['Timely response'] , normalize='index') \n",
        "continTablePercentage"
      ],
      "execution_count": null,
      "outputs": [
        {
          "output_type": "execute_result",
          "data": {
            "text/html": [
              "<div>\n",
              "<style scoped>\n",
              "    .dataframe tbody tr th:only-of-type {\n",
              "        vertical-align: middle;\n",
              "    }\n",
              "\n",
              "    .dataframe tbody tr th {\n",
              "        vertical-align: top;\n",
              "    }\n",
              "\n",
              "    .dataframe thead th {\n",
              "        text-align: right;\n",
              "    }\n",
              "</style>\n",
              "<table border=\"1\" class=\"dataframe\">\n",
              "  <thead>\n",
              "    <tr style=\"text-align: right;\">\n",
              "      <th>Timely response</th>\n",
              "      <th>1</th>\n",
              "      <th>2</th>\n",
              "      <th>3</th>\n",
              "      <th>4</th>\n",
              "      <th>5</th>\n",
              "      <th>6</th>\n",
              "      <th>7</th>\n",
              "    </tr>\n",
              "    <tr>\n",
              "      <th>Churn</th>\n",
              "      <th></th>\n",
              "      <th></th>\n",
              "      <th></th>\n",
              "      <th></th>\n",
              "      <th></th>\n",
              "      <th></th>\n",
              "      <th></th>\n",
              "    </tr>\n",
              "  </thead>\n",
              "  <tbody>\n",
              "    <tr>\n",
              "      <th>No</th>\n",
              "      <td>0.021497</td>\n",
              "      <td>0.136327</td>\n",
              "      <td>0.348571</td>\n",
              "      <td>0.336463</td>\n",
              "      <td>0.135238</td>\n",
              "      <td>0.019864</td>\n",
              "      <td>0.002041</td>\n",
              "    </tr>\n",
              "    <tr>\n",
              "      <th>Yes</th>\n",
              "      <td>0.024906</td>\n",
              "      <td>0.147547</td>\n",
              "      <td>0.334340</td>\n",
              "      <td>0.333962</td>\n",
              "      <td>0.137736</td>\n",
              "      <td>0.020000</td>\n",
              "      <td>0.001509</td>\n",
              "    </tr>\n",
              "  </tbody>\n",
              "</table>\n",
              "</div>"
            ],
            "text/plain": [
              "Timely response         1         2         3  ...         5         6         7\n",
              "Churn                                          ...                              \n",
              "No               0.021497  0.136327  0.348571  ...  0.135238  0.019864  0.002041\n",
              "Yes              0.024906  0.147547  0.334340  ...  0.137736  0.020000  0.001509\n",
              "\n",
              "[2 rows x 7 columns]"
            ]
          },
          "metadata": {},
          "execution_count": 26
        }
      ]
    },
    {
      "cell_type": "code",
      "metadata": {
        "colab": {
          "base_uri": "https://localhost:8080/",
          "height": 142
        },
        "id": "4eAcekDm_Bv-",
        "outputId": "537e40bb-f42b-421d-aef3-2b22c7e3543b"
      },
      "source": [
        "# Build table of two variables and give percentange of the data and normalize \n",
        "continTablePercentage2 = pd.crosstab(df['Churn'], df['Timely fixes'] , normalize='index') \n",
        "continTablePercentage2"
      ],
      "execution_count": null,
      "outputs": [
        {
          "output_type": "execute_result",
          "data": {
            "text/html": [
              "<div>\n",
              "<style scoped>\n",
              "    .dataframe tbody tr th:only-of-type {\n",
              "        vertical-align: middle;\n",
              "    }\n",
              "\n",
              "    .dataframe tbody tr th {\n",
              "        vertical-align: top;\n",
              "    }\n",
              "\n",
              "    .dataframe thead th {\n",
              "        text-align: right;\n",
              "    }\n",
              "</style>\n",
              "<table border=\"1\" class=\"dataframe\">\n",
              "  <thead>\n",
              "    <tr style=\"text-align: right;\">\n",
              "      <th>Timely fixes</th>\n",
              "      <th>1</th>\n",
              "      <th>2</th>\n",
              "      <th>3</th>\n",
              "      <th>4</th>\n",
              "      <th>5</th>\n",
              "      <th>6</th>\n",
              "      <th>7</th>\n",
              "    </tr>\n",
              "    <tr>\n",
              "      <th>Churn</th>\n",
              "      <th></th>\n",
              "      <th></th>\n",
              "      <th></th>\n",
              "      <th></th>\n",
              "      <th></th>\n",
              "      <th></th>\n",
              "      <th></th>\n",
              "    </tr>\n",
              "  </thead>\n",
              "  <tbody>\n",
              "    <tr>\n",
              "      <th>No</th>\n",
              "      <td>0.021769</td>\n",
              "      <td>0.132381</td>\n",
              "      <td>0.342721</td>\n",
              "      <td>0.341088</td>\n",
              "      <td>0.139456</td>\n",
              "      <td>0.021088</td>\n",
              "      <td>0.001497</td>\n",
              "    </tr>\n",
              "    <tr>\n",
              "      <th>Yes</th>\n",
              "      <td>0.021509</td>\n",
              "      <td>0.146038</td>\n",
              "      <td>0.338113</td>\n",
              "      <td>0.341509</td>\n",
              "      <td>0.129434</td>\n",
              "      <td>0.022642</td>\n",
              "      <td>0.000755</td>\n",
              "    </tr>\n",
              "  </tbody>\n",
              "</table>\n",
              "</div>"
            ],
            "text/plain": [
              "Timely fixes         1         2         3  ...         5         6         7\n",
              "Churn                                       ...                              \n",
              "No            0.021769  0.132381  0.342721  ...  0.139456  0.021088  0.001497\n",
              "Yes           0.021509  0.146038  0.338113  ...  0.129434  0.022642  0.000755\n",
              "\n",
              "[2 rows x 7 columns]"
            ]
          },
          "metadata": {},
          "execution_count": 27
        }
      ]
    },
    {
      "cell_type": "code",
      "metadata": {
        "colab": {
          "base_uri": "https://localhost:8080/",
          "height": 296
        },
        "id": "Hsxz-SyEAz3H",
        "outputId": "06466195-40f5-424f-9fd2-d2dec5d3a849"
      },
      "source": [
        "# Vizualize the table in heatmap for Timely response\n",
        "plt.figure(figsize=(10,4))\n",
        "sns.heatmap(continTable, annot=True, cmap='OrRd')\n"
      ],
      "execution_count": null,
      "outputs": [
        {
          "output_type": "execute_result",
          "data": {
            "text/plain": [
              "<matplotlib.axes._subplots.AxesSubplot at 0x7f7368b60250>"
            ]
          },
          "metadata": {},
          "execution_count": 32
        },
        {
          "output_type": "display_data",
          "data": {
            "image/png": "[encoded data removed]",
            "text/plain": [
              "<Figure size 720x288 with 2 Axes>"
            ]
          },
          "metadata": {
            "needs_background": "light"
          }
        }
      ]
    },
    {
      "cell_type": "code",
      "metadata": {
        "colab": {
          "base_uri": "https://localhost:8080/",
          "height": 299
        },
        "id": "_KDFCQlqDiqb",
        "outputId": "9ad95198-6328-4e1d-9b08-da5ad17ca8cd"
      },
      "source": [
        "# Vizualize the table in heatmap for Timely fixes\n",
        "plt.figure(figsize=(10,4))\n",
        "sns.heatmap(continTable2, annot=True, cmap='BuPu')\n"
      ],
      "execution_count": null,
      "outputs": [
        {
          "output_type": "execute_result",
          "data": {
            "text/plain": [
              "<matplotlib.axes._subplots.AxesSubplot at 0x7f73689ff710>"
            ]
          },
          "metadata": {},
          "execution_count": 33
        },
        {
          "output_type": "display_data",
          "data": {
            "image/png": "[encoded data removed]",
            "text/plain": [
              "<Figure size 720x288 with 2 Axes>"
            ]
          },
          "metadata": {
            "needs_background": "light"
          }
        }
      ]
    },
    {
      "cell_type": "code",
      "metadata": {
        "colab": {
          "base_uri": "https://localhost:8080/"
        },
        "id": "fOJfhGtWD-Dr",
        "outputId": "c3b86489-8155-4072-9d3d-882fa12e6d80"
      },
      "source": [
        "# Chi-Square Testing\n",
        "chi, p, dof, expected = chi2_contingency(continTable)\n",
        "print('Chi ' + str(chi))\n",
        "print('P-Value ' + str(p))\n",
        "print('DOF ' + str(dof))\n",
        "print('Expected ' + str(expected))"
      ],
      "execution_count": null,
      "outputs": [
        {
          "output_type": "stream",
          "name": "stdout",
          "text": [
            "Chi 4.332077523616339\n",
            "P-Value 0.6318335816054494\n",
            "DOF 6\n",
            "Expected [[ 164.64  1023.855 2534.28  2468.13   998.865  146.265   13.965]\n",
            " [  59.36   369.145  913.72   889.87   360.135   52.735    5.035]]\n"
          ]
        }
      ]
    },
    {
      "cell_type": "code",
      "metadata": {
        "colab": {
          "base_uri": "https://localhost:8080/",
          "height": 281
        },
        "id": "9Nim6TEaKsEL",
        "outputId": "dc9f0265-7fb5-48ce-9007-31cb3f342eb2"
      },
      "source": [
        "# Create a histogram of columns and save those to churn_histplot.jpg for continuous and categorical\n",
        "df[['Income', 'MonthlyCharge', 'Timely response', 'Timely fixes']].hist()\n",
        "plt.tight_layout\n",
        "plt.savefig('churn_histplot.jpg')\n"
      ],
      "execution_count": null,
      "outputs": [
        {
          "output_type": "display_data",
          "data": {
            "image/png": "[encoded data removed]",
            "text/plain": [
              "<Figure size 432x288 with 4 Axes>"
            ]
          },
          "metadata": {
            "needs_background": "light"
          }
        }
      ]
    },
    {
      "cell_type": "code",
      "metadata": {
        "colab": {
          "base_uri": "https://localhost:8080/",
          "height": 350
        },
        "id": "pCI4dgaLQIS2",
        "outputId": "2f91407f-55ed-41c7-b901-0395ea5cdf83"
      },
      "source": [
        "# Create box plot for all columns for continuous and categorical \n",
        "# Income\n",
        "sns.boxplot('Income', data=df)\n",
        "plt.show\n"
      ],
      "execution_count": null,
      "outputs": [
        {
          "output_type": "stream",
          "name": "stderr",
          "text": [
            "/usr/local/lib/python3.7/dist-packages/seaborn/_decorators.py:43: FutureWarning: Pass the following variable as a keyword arg: x. From version 0.12, the only valid positional argument will be `data`, and passing other arguments without an explicit keyword will result in an error or misinterpretation.\n",
            "  FutureWarning\n"
          ]
        },
        {
          "output_type": "execute_result",
          "data": {
            "text/plain": [
              "<function matplotlib.pyplot.show>"
            ]
          },
          "metadata": {},
          "execution_count": 76
        },
        {
          "output_type": "display_data",
          "data": {
            "image/png": "[encoded data removed]",
            "text/plain": [
              "<Figure size 432x288 with 1 Axes>"
            ]
          },
          "metadata": {
            "needs_background": "light"
          }
        }
      ]
    },
    {
      "cell_type": "code",
      "metadata": {
        "colab": {
          "base_uri": "https://localhost:8080/",
          "height": 350
        },
        "id": "Jx4VKcuBRS5x",
        "outputId": "f40ba6cb-c46b-42bd-da5a-70b9421b2e7f"
      },
      "source": [
        "# Create box plot for all columns for continuous and categorical \n",
        "# MonthlyCharge\n",
        "sns.boxplot('MonthlyCharge', data=df)\n",
        "plt.show\n"
      ],
      "execution_count": null,
      "outputs": [
        {
          "output_type": "stream",
          "name": "stderr",
          "text": [
            "/usr/local/lib/python3.7/dist-packages/seaborn/_decorators.py:43: FutureWarning: Pass the following variable as a keyword arg: x. From version 0.12, the only valid positional argument will be `data`, and passing other arguments without an explicit keyword will result in an error or misinterpretation.\n",
            "  FutureWarning\n"
          ]
        },
        {
          "output_type": "execute_result",
          "data": {
            "text/plain": [
              "<function matplotlib.pyplot.show>"
            ]
          },
          "metadata": {},
          "execution_count": 77
        },
        {
          "output_type": "display_data",
          "data": {
            "image/png": "[encoded data removed]",
            "text/plain": [
              "<Figure size 432x288 with 1 Axes>"
            ]
          },
          "metadata": {
            "needs_background": "light"
          }
        }
      ]
    },
    {
      "cell_type": "code",
      "metadata": {
        "colab": {
          "base_uri": "https://localhost:8080/",
          "height": 350
        },
        "id": "9ErtF5xvRW_W",
        "outputId": "cc4122ac-b820-41c3-836c-a55d75222447"
      },
      "source": [
        "# Create box plot for all columns for continuous and categorical \n",
        "# Timely response\n",
        "sns.boxplot('Timely response', data=df)\n",
        "plt.show\n"
      ],
      "execution_count": null,
      "outputs": [
        {
          "output_type": "stream",
          "name": "stderr",
          "text": [
            "/usr/local/lib/python3.7/dist-packages/seaborn/_decorators.py:43: FutureWarning: Pass the following variable as a keyword arg: x. From version 0.12, the only valid positional argument will be `data`, and passing other arguments without an explicit keyword will result in an error or misinterpretation.\n",
            "  FutureWarning\n"
          ]
        },
        {
          "output_type": "execute_result",
          "data": {
            "text/plain": [
              "<function matplotlib.pyplot.show>"
            ]
          },
          "metadata": {},
          "execution_count": 78
        },
        {
          "output_type": "display_data",
          "data": {
            "image/png": "[encoded data removed]",
            "text/plain": [
              "<Figure size 432x288 with 1 Axes>"
            ]
          },
          "metadata": {
            "needs_background": "light"
          }
        }
      ]
    },
    {
      "cell_type": "code",
      "metadata": {
        "colab": {
          "base_uri": "https://localhost:8080/",
          "height": 350
        },
        "id": "lfCzAl3pRbpR",
        "outputId": "65b9227e-91fa-445a-ab74-0b3c10e0e9fc"
      },
      "source": [
        "# Create box plot for all columns for continuous and categorical \n",
        "# Timely fixes\n",
        "sns.boxplot('Timely fixes', data=df)\n",
        "plt.show\n"
      ],
      "execution_count": null,
      "outputs": [
        {
          "output_type": "stream",
          "name": "stderr",
          "text": [
            "/usr/local/lib/python3.7/dist-packages/seaborn/_decorators.py:43: FutureWarning: Pass the following variable as a keyword arg: x. From version 0.12, the only valid positional argument will be `data`, and passing other arguments without an explicit keyword will result in an error or misinterpretation.\n",
            "  FutureWarning\n"
          ]
        },
        {
          "output_type": "execute_result",
          "data": {
            "text/plain": [
              "<function matplotlib.pyplot.show>"
            ]
          },
          "metadata": {},
          "execution_count": 79
        },
        {
          "output_type": "display_data",
          "data": {
            "image/png": "[encoded data removed]",
            "text/plain": [
              "<Figure size 432x288 with 1 Axes>"
            ]
          },
          "metadata": {
            "needs_background": "light"
          }
        }
      ]
    },
    {
      "cell_type": "code",
      "metadata": {
        "id": "cWLjzVMzSIUb"
      },
      "source": [
        "# Bivariate analysis of correlation using colums\n",
        "# Income, MonthlyCharges, Timely reponse, and Timely fixes\n",
        "biVarDf = df[['Income', 'MonthlyCharge', 'Timely response', 'Timely fixes']]"
      ],
      "execution_count": null,
      "outputs": []
    },
    {
      "cell_type": "code",
      "metadata": {
        "colab": {
          "base_uri": "https://localhost:8080/",
          "height": 341
        },
        "id": "83z1n_etTdsj",
        "outputId": "b4940c90-34cb-4ba1-c82d-51102021f6fe"
      },
      "source": [
        "# Create a heatmap to show correclation of the columns for bivariate\n",
        "sns.heatmap(biVarDf.corr(), annot=True, center=1)\n",
        "plt.show()"
      ],
      "execution_count": null,
      "outputs": [
        {
          "output_type": "display_data",
          "data": {
            "image/png": "[encoded data removed]",
            "text/plain": [
              "<Figure size 432x288 with 2 Axes>"
            ]
          },
          "metadata": {
            "needs_background": "light"
          }
        }
      ]
    },
    {
      "cell_type": "code",
      "metadata": {
        "colab": {
          "base_uri": "https://localhost:8080/",
          "height": 558
        },
        "id": "KITfu6vIVFI_",
        "outputId": "461ed969-16ff-4f3f-b889-d791cd8095db"
      },
      "source": [
        "#Scatter plot for bivariate\n",
        "biVarDf[biVarDf['Income'] <260000].sample(100).plot.scatter(x='Income', y='MonthlyCharge')\n",
        "biVarDf[biVarDf['Timely response'] < 9].sample(100).plot.scatter(x='Timely response', y='Timely fixes')"
      ],
      "execution_count": null,
      "outputs": [
        {
          "output_type": "execute_result",
          "data": {
            "text/plain": [
              "<matplotlib.axes._subplots.AxesSubplot at 0x7f73483a5210>"
            ]
          },
          "metadata": {},
          "execution_count": 91
        },
        {
          "output_type": "display_data",
          "data": {
            "image/png": "[encoded data removed]",
            "text/plain": [
              "<Figure size 432x288 with 1 Axes>"
            ]
          },
          "metadata": {
            "needs_background": "light"
          }
        },
        {
          "output_type": "display_data",
          "data": {
            "image/png": "[encoded data removed]",
            "text/plain": [
              "<Figure size 432x288 with 1 Axes>"
            ]
          },
          "metadata": {
            "needs_background": "light"
          }
        }
      ]
    },
    {
      "cell_type": "code",
      "metadata": {
        "colab": {
          "base_uri": "https://localhost:8080/",
          "height": 738
        },
        "id": "HX7Xs_Y_YKs6",
        "outputId": "d6b975ff-17f5-42cc-f186-a0f7ab0d131c"
      },
      "source": [
        "sns.displot(biVarDf, x='Income', y='MonthlyCharge', cmap='Dark2')\n",
        "sns.displot(biVarDf, x='Timely response', y='Timely fixes', cmap='Dark2')"
      ],
      "execution_count": null,
      "outputs": [
        {
          "output_type": "execute_result",
          "data": {
            "text/plain": [
              "<seaborn.axisgrid.FacetGrid at 0x7f7347e63510>"
            ]
          },
          "metadata": {},
          "execution_count": 111
        },
        {
          "output_type": "display_data",
          "data": {
            "image/png": "[encoded data removed]",
            "text/plain": [
              "<Figure size 360x360 with 1 Axes>"
            ]
          },
          "metadata": {
            "needs_background": "light"
          }
        },
        {
          "output_type": "display_data",
          "data": {
            "image/png": "[encoded data removed]",
            "text/plain": [
              "<Figure size 360x360 with 1 Axes>"
            ]
          },
          "metadata": {
            "needs_background": "light"
          }
        }
      ]
    },
    {
      "cell_type": "code",
      "metadata": {
        "colab": {
          "base_uri": "https://localhost:8080/",
          "height": 512
        },
        "id": "NCobDtY7asMJ",
        "outputId": "930468b7-5186-4cab-b1ae-00e841cbe4ea"
      },
      "source": [
        "biVarDf[biVarDf['Income'] <260000].sample(100).plot.hexbin(x='Income', y='MonthlyCharge', gridsize=15)\n",
        "biVarDf[biVarDf['Timely response'] < 9].sample(100).plot.hexbin(x='Timely response', y='Timely fixes', gridsize=10)"
      ],
      "execution_count": null,
      "outputs": [
        {
          "output_type": "execute_result",
          "data": {
            "text/plain": [
              "<matplotlib.axes._subplots.AxesSubplot at 0x7f7347592c10>"
            ]
          },
          "metadata": {},
          "execution_count": 117
        },
        {
          "output_type": "display_data",
          "data": {
            "image/png": "[encoded data removed]",
            "text/plain": [
              "<Figure size 432x288 with 2 Axes>"
            ]
          },
          "metadata": {
            "needs_background": "light"
          }
        },
        {
          "output_type": "display_data",
          "data": {
            "image/png": "[encoded data removed]",
            "text/plain": [
              "<Figure size 432x288 with 2 Axes>"
            ]
          },
          "metadata": {
            "needs_background": "light"
          }
        }
      ]
    }
  ]
}